{
 "cells": [
  {
   "cell_type": "code",
   "execution_count": 1,
   "id": "d4d3a0b4",
   "metadata": {},
   "outputs": [],
   "source": [
    "import os\n",
    "import sys"
   ]
  },
  {
   "cell_type": "code",
   "execution_count": 2,
   "id": "d1a81884",
   "metadata": {},
   "outputs": [],
   "source": [
    "sys.path.append('./python/')"
   ]
  },
  {
   "cell_type": "code",
   "execution_count": 3,
   "id": "4ef41418",
   "metadata": {},
   "outputs": [],
   "source": [
    "import needle\n",
    "import numpy as np\n",
    "\n",
    "from needle.backend_ndarray import SparseNDArray, cpu\n",
    "from needle.backend_ndarray import NDArray"
   ]
  },
  {
   "cell_type": "code",
   "execution_count": 4,
   "id": "94f712b4",
   "metadata": {},
   "outputs": [],
   "source": [
    "loc = np.array([[0,1,2],[1,1,0],[0,1,2]])\n",
    "val = np.array([2,3,4])\n",
    "shape = (3,3,3)\n",
    "nnz = 3\n",
    "arr = SparseNDArray(loc, val, shape, device=cpu())"
   ]
  },
  {
   "cell_type": "code",
   "execution_count": 5,
   "id": "4c86aea5",
   "metadata": {},
   "outputs": [
    {
     "data": {
      "text/plain": [
       "(9, 3, 1)"
      ]
     },
     "execution_count": 5,
     "metadata": {},
     "output_type": "execute_result"
    }
   ],
   "source": [
    "strides = SparseNDArray.compact_strides(shape)\n",
    "strides"
   ]
  },
  {
   "cell_type": "code",
   "execution_count": 6,
   "id": "87f166fd",
   "metadata": {},
   "outputs": [
    {
     "data": {
      "text/plain": [
       "array([ 3, 13, 20])"
      ]
     },
     "execution_count": 6,
     "metadata": {},
     "output_type": "execute_result"
    }
   ],
   "source": [
    "loc1d = SparseNDArray.convert_loc_to_1d(shape, loc)\n",
    "loc1d"
   ]
  },
  {
   "cell_type": "code",
   "execution_count": 7,
   "id": "7785b5d6",
   "metadata": {},
   "outputs": [
    {
     "data": {
      "text/plain": [
       "array([[0., 1., 2.],\n",
       "       [1., 1., 0.],\n",
       "       [0., 1., 2.]])"
      ]
     },
     "execution_count": 7,
     "metadata": {},
     "output_type": "execute_result"
    }
   ],
   "source": [
    "SparseNDArray.convert_1d_to_loc(shape, loc1d)"
   ]
  },
  {
   "cell_type": "code",
   "execution_count": 8,
   "id": "2cf369c5",
   "metadata": {},
   "outputs": [
    {
     "name": "stdout",
     "output_type": "stream",
     "text": [
      "(3, 3, 3)\n",
      "3\n",
      "3\n"
     ]
    }
   ],
   "source": [
    "print(arr._shape)\n",
    "print(arr._handle.nnz)\n",
    "print(arr._handle.nnz)"
   ]
  },
  {
   "cell_type": "code",
   "execution_count": 8,
   "id": "6cd85d6b",
   "metadata": {},
   "outputs": [
    {
     "data": {
      "text/plain": [
       "array([2., 3., 4.], dtype=float32)"
      ]
     },
     "execution_count": 8,
     "metadata": {},
     "output_type": "execute_result"
    }
   ],
   "source": [
    "arr.numpy_value()"
   ]
  },
  {
   "cell_type": "code",
   "execution_count": 9,
   "id": "0a1c3527",
   "metadata": {},
   "outputs": [
    {
     "data": {
      "text/plain": [
       "array([1., 4., 6.], dtype=float32)"
      ]
     },
     "execution_count": 9,
     "metadata": {},
     "output_type": "execute_result"
    }
   ],
   "source": [
    "arr.numpy_location()"
   ]
  },
  {
   "cell_type": "code",
   "execution_count": 10,
   "id": "e6630bc7",
   "metadata": {},
   "outputs": [
    {
     "data": {
      "text/plain": [
       "NDArray([[0. 1. 2.]\n",
       " [1. 1. 0.]], device=cpu_numpy())"
      ]
     },
     "execution_count": 10,
     "metadata": {},
     "output_type": "execute_result"
    }
   ],
   "source": [
    "arr = NDArray(loc)\n",
    "arr"
   ]
  },
  {
   "cell_type": "code",
   "execution_count": null,
   "id": "aa3d8bb6",
   "metadata": {},
   "outputs": [],
   "source": [
    "loc.flatten()"
   ]
  },
  {
   "cell_type": "code",
   "execution_count": 12,
   "id": "992d5cf4",
   "metadata": {},
   "outputs": [
    {
     "data": {
      "text/plain": [
       "array([[0., 0., 0.],\n",
       "       [0., 0., 0.],\n",
       "       [0., 0., 0.]])"
      ]
     },
     "execution_count": 12,
     "metadata": {},
     "output_type": "execute_result"
    }
   ],
   "source": [
    "a = np.zeros((3,3))\n",
    "a"
   ]
  },
  {
   "cell_type": "code",
   "execution_count": 13,
   "id": "30b01dcf",
   "metadata": {},
   "outputs": [
    {
     "data": {
      "text/plain": [
       "array([[1., 0., 0.],\n",
       "       [2., 0., 0.],\n",
       "       [3., 0., 0.]])"
      ]
     },
     "execution_count": 13,
     "metadata": {},
     "output_type": "execute_result"
    }
   ],
   "source": [
    "a[:,0] = [1,2,3]\n",
    "a"
   ]
  },
  {
   "cell_type": "code",
   "execution_count": 15,
   "id": "9c5d4c42",
   "metadata": {},
   "outputs": [
    {
     "data": {
      "text/plain": [
       "0"
      ]
     },
     "execution_count": 15,
     "metadata": {},
     "output_type": "execute_result"
    }
   ],
   "source": [
    "1//3"
   ]
  },
  {
   "cell_type": "code",
   "execution_count": null,
   "id": "dc70362b",
   "metadata": {},
   "outputs": [],
   "source": []
  }
 ],
 "metadata": {
  "kernelspec": {
   "display_name": "Python 3 (ipykernel)",
   "language": "python",
   "name": "python3"
  },
  "language_info": {
   "codemirror_mode": {
    "name": "ipython",
    "version": 3
   },
   "file_extension": ".py",
   "mimetype": "text/x-python",
   "name": "python",
   "nbconvert_exporter": "python",
   "pygments_lexer": "ipython3",
   "version": "3.10.8"
  }
 },
 "nbformat": 4,
 "nbformat_minor": 5
}
