{
 "cells": [
  {
   "cell_type": "markdown",
   "id": "44a24c06",
   "metadata": {},
   "source": [
    "## This notebook contains some simple tests for the Sparse Tensor / SparseNDArray extension for Needle"
   ]
  },
  {
   "cell_type": "code",
   "execution_count": 4,
   "id": "979e36fa",
   "metadata": {},
   "outputs": [],
   "source": [
    "import os\n",
    "import sys"
   ]
  },
  {
   "cell_type": "code",
   "execution_count": 5,
   "id": "0463e14d",
   "metadata": {},
   "outputs": [],
   "source": [
    "sys.path.append('./python/')"
   ]
  },
  {
   "cell_type": "code",
   "execution_count": 6,
   "id": "5965cdf6",
   "metadata": {},
   "outputs": [],
   "source": [
    "import needle\n",
    "import numpy as np\n",
    "\n",
    "from needle.backend_ndarray import SparseNDArray\n",
    "from needle.backend_ndarray import NDArray\n",
    "\n",
    "from needle.backend_ndarray import ndarray, sparse_ndarray"
   ]
  },
  {
   "cell_type": "code",
   "execution_count": 7,
   "id": "050b4452",
   "metadata": {},
   "outputs": [],
   "source": [
    "loc = np.array([[0,1,2],[1,1,0],[0,1,2]])\n",
    "val = np.array([2,3,4])\n",
    "shape = (3,3,3)\n",
    "nnz = 3\n",
    "arr = SparseNDArray(loc, val, shape, device=sparse_ndarray.cpu())"
   ]
  },
  {
   "cell_type": "code",
   "execution_count": 8,
   "id": "46b206de",
   "metadata": {},
   "outputs": [
    {
     "data": {
      "text/plain": [
       "NDArray(locations=[[0. 1. 2.]\n",
       " [1. 1. 0.]\n",
       " [0. 1. 2.]]\n",
       "values=[12. 13. 14.], device=cpu())"
      ]
     },
     "execution_count": 8,
     "metadata": {},
     "output_type": "execute_result"
    }
   ],
   "source": [
    "arr + 10"
   ]
  },
  {
   "cell_type": "code",
   "execution_count": 9,
   "id": "61aceaa3",
   "metadata": {
    "scrolled": true
   },
   "outputs": [
    {
     "name": "stdout",
     "output_type": "stream",
     "text": [
      "(3, 3, 3)\n",
      "3\n",
      "3\n"
     ]
    }
   ],
   "source": [
    "print(arr._shape)\n",
    "print(arr._handle.nnz)\n",
    "print(arr._handle.nnz)"
   ]
  },
  {
   "cell_type": "code",
   "execution_count": 10,
   "id": "545111cb",
   "metadata": {},
   "outputs": [
    {
     "data": {
      "text/plain": [
       "NDArray(locations=[[0. 1. 2.]\n",
       " [0. 1. 0.]\n",
       " [0. 1. 2.]]\n",
       "values=[2. 3. 4.], device=cpu())"
      ]
     },
     "execution_count": 10,
     "metadata": {},
     "output_type": "execute_result"
    }
   ],
   "source": [
    "loc1 = np.array([[0,1,2],[0,1,0],[0,1,2]])\n",
    "arr1 = SparseNDArray(loc1, val, shape)\n",
    "arr1"
   ]
  },
  {
   "cell_type": "code",
   "execution_count": 11,
   "id": "5bd9eebb",
   "metadata": {},
   "outputs": [
    {
     "data": {
      "text/plain": [
       "NDArray(locations=[[0. 0. 1. 2.]\n",
       " [0. 1. 1. 0.]\n",
       " [0. 0. 1. 2.]]\n",
       "values=[2. 2. 6. 8.], device=cpu())"
      ]
     },
     "execution_count": 11,
     "metadata": {},
     "output_type": "execute_result"
    }
   ],
   "source": [
    "arr + arr1"
   ]
  },
  {
   "cell_type": "code",
   "execution_count": 12,
   "id": "30abe893",
   "metadata": {},
   "outputs": [
    {
     "name": "stdout",
     "output_type": "stream",
     "text": [
      "[20.0, 13.0]\n"
     ]
    },
    {
     "data": {
      "text/plain": [
       "NDArray(locations=[[1. 2.]\n",
       " [1. 0.]\n",
       " [1. 2.]]\n",
       "values=[ 9. 16.], device=cpu())"
      ]
     },
     "execution_count": 12,
     "metadata": {},
     "output_type": "execute_result"
    }
   ],
   "source": [
    "arr * arr1"
   ]
  },
  {
   "cell_type": "code",
   "execution_count": 13,
   "id": "0b23e6c1",
   "metadata": {},
   "outputs": [
    {
     "name": "stdout",
     "output_type": "stream",
     "text": [
      "<class 'numpy.ndarray'> [[[0. 0. 0.]\n",
      "  [2. 0. 0.]\n",
      "  [0. 0. 0.]]\n",
      "\n",
      " [[0. 0. 0.]\n",
      "  [0. 3. 0.]\n",
      "  [0. 0. 0.]]\n",
      "\n",
      " [[0. 0. 4.]\n",
      "  [0. 0. 0.]\n",
      "  [0. 0. 0.]]]\n"
     ]
    },
    {
     "data": {
      "text/plain": [
       "NDArray([[[0. 0. 0.]\n",
       "  [2. 0. 0.]\n",
       "  [0. 0. 0.]]\n",
       "\n",
       " [[0. 0. 0.]\n",
       "  [0. 3. 0.]\n",
       "  [0. 0. 0.]]\n",
       "\n",
       " [[0. 0. 4.]\n",
       "  [0. 0. 0.]\n",
       "  [0. 0. 0.]]], device=cpu())"
      ]
     },
     "execution_count": 13,
     "metadata": {},
     "output_type": "execute_result"
    }
   ],
   "source": [
    "arr_d = arr.to_dense()\n",
    "arr_d"
   ]
  },
  {
   "cell_type": "code",
   "execution_count": 14,
   "id": "2621fd2b",
   "metadata": {},
   "outputs": [],
   "source": [
    "# TO BE IMPLEMENTED: this requires additional efforts, since currently implementing to_sparse\n",
    "# in NDArray will incur a cyclic import situation\n",
    "# arr_d.to_sparse()"
   ]
  }
 ],
 "metadata": {
  "kernelspec": {
   "display_name": "Python 3 (ipykernel)",
   "language": "python",
   "name": "python3"
  },
  "language_info": {
   "codemirror_mode": {
    "name": "ipython",
    "version": 3
   },
   "file_extension": ".py",
   "mimetype": "text/x-python",
   "name": "python",
   "nbconvert_exporter": "python",
   "pygments_lexer": "ipython3",
   "version": "3.10.8"
  }
 },
 "nbformat": 4,
 "nbformat_minor": 5
}
