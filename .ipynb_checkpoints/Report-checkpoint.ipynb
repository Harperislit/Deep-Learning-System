{
 "cells": [
  {
   "cell_type": "markdown",
   "id": "0af65871-09d2-4d11-9317-d131da80a3ef",
   "metadata": {},
   "source": [
    "# DLS Final Project\n",
    "\n",
    "A sparse tensor is a dataset in which most of the entries are zero. It is widely used in modern deep learning applications, such as Graph Neural Networks (GNN) for social network modeling, 2D/3D Computer vision where objects are \"sparse\" in the image (e.g., point clouds), and Geospatial machine learning models where locality are common assumptions. Sparse tensors do not store every entry of the tensor object but only store the non-zero values and the corresponding coordinates of them. In this way, for sparse matrices, the storage requirements are reduced and unnecessary silent computations involving zero values are eliminated. \n",
    "\n",
    "In this project, we plan to add the SparseTensor interface to Needle, in the hope to support the storages and computations of sparse matrices in a more efficient way. In summary, our work mainly includes three parts. Frist, we design a SparseTensor class which is a sparse version of the Tensor class. Second, we design a SparseNDArray class which supports the operations of sparse N dimemsions arrays. The cached data of SparseTensor is stored as a SparseNDArray. Finally, we implement the backend device of SparseNDArray in C++. "
   ]
  },
  {
   "cell_type": "code",
   "execution_count": 1,
   "id": "08f2c084-4e41-45dd-a804-731fb539a5b1",
   "metadata": {},
   "outputs": [],
   "source": [
    "#install package here"
   ]
  },
  {
   "cell_type": "markdown",
   "id": "5fa8eadc-2488-4a76-b159-663df2e2bcd2",
   "metadata": {
    "tags": []
   },
   "source": [
    "## Part 1: Backend Device of SparseNDArray\n",
    "\n",
    "In our implementation, any sparse arrays are stored in as a struct called `AlignedArray` in `sparse_ndarray_backend_cpu.cc`. An AlignedArray contains three members as follows.\n",
    "\n",
    "```c++\n",
    "scalar_t* ptr_value;\n",
    "size_t* ptr_loc;\n",
    "size_t nnz;\n",
    "```\n",
    "\n",
    "`ptr_value` points to a \"flat\" aligned array which stores the nonzero values of the sparse arrays. And `ptr_loc` point to a \"flat\" aligned array which stores the locations of non zero values. An AlignedArray can be constructed as long as its `nnz`, the number of nonzero values, is provided. "
   ]
  },
  {
   "cell_type": "markdown",
   "id": "236e637d-72eb-43ff-95b0-ede96dc5bdc7",
   "metadata": {},
   "source": [
    "First, we implement a series of elementwise and scalar operations, including\n",
    "\n",
    "* `EwiseAdd()`, `ScalarAdd()`\n",
    "* `EwiseMul()`, `ScalarMul()`\n",
    "* `ScalarDiv()`\n",
    "* `ScalarPower()`\n",
    "* `EwiseMaximum()`, `ScalarMaximum()`\n",
    "* `EwiseTanh()`\n",
    "\n",
    "Note that we don't implement EwiseDiv(), EwiseExp(), and EwiseLog(), because they will lead to illegal operations (e.g. 0/0 and log(0)) or because they will result in dense arrays."
   ]
  },
  {
   "cell_type": "markdown",
   "id": "cd2da6ca-0a25-48c9-9c9d-c4c5133c7091",
   "metadata": {},
   "source": [
    "Second, we also implement two reduction functions. \n",
    "\n",
    "* `ReduceMax()`\n",
    "* `ReduceSum()`\n",
    "\n",
    "These two functions support the `.max()` and `.sum()` in SparseNDArray to take the max or sum over a certain axis. To implement these two functions, we permute the last axis to the be the one reduced over, so that we can just reduce over contiguous elements of size reduce_size as passed to the C++ functions."
   ]
  },
  {
   "cell_type": "markdown",
   "id": "c5d1d35f-a21a-49e6-9c16-f0509bde7c79",
   "metadata": {
    "tags": []
   },
   "source": [
    "## Part 2: SparseNDArray in Python \n",
    "\n",
    "#### (1) The definition of a SparseNDArray\n",
    "The SparseNDArray class is a Python wrapper defined in `/python/needle/backend_ndarrray/sparse_ndarray.py` for handling operations on sparse N dimensional arrays. It is built on top of the backend device in `sparse_ndarray_backend_cpu.cc`. A SparseNDArray is defined with following four attributes:\n",
    "\n",
    "* `_shape`: A tuple specifying the size of each dimension in the sparse array.\n",
    "* `_nnz`: Number of nonzero values in the sparse array.\n",
    "* `_handle`: A class objected that stores the underlying memory of the array. It is allocated as a class of type device.Array().\n",
    "* `_device`: An object of type BackendDevice, which is a simple wrapper that contains a link to the underlying device backend. Currently, our implementation only supports CPU.\n",
    "\n",
    "#### (2) How can users construct a SparseNDArray\n",
    "Although the underlying data is stored as a \"flat\" 1D array, the class SparseNDArray interacts with users in Coordinate (COO) format. In COO format, the specified elements are stored as tuples of values and the corresponding indices. Specifically,\n",
    "* the np.array `locations` of size (ndim, nnz) stores the indices of nonzero values\n",
    "* the np.array `values` of size (nnz, ) stores the nonzero values\n",
    "\n",
    "With `locations`, `values`, `shape`, and `device`, users can construt a SparseNdarray in the following way:\n",
    "```python\n",
    "my_sparse_array = SparseNDArray(locations, values, shape, device)\n",
    "```\n",
    "\n",
    "#### (3) The conversion between COO format and underlying memory\n",
    "Since the class SparseNDArray interacts with users in COO format while the underlying data is stored as \"flat\" 1D array, we implement the conversion between them. First, the function `from_numpy` in `sparse_ndarray_backend_cpu.cc` converts a SparseNDArray from np.ndarray in COO format to \"flat\" 1D arrays in memory. The np.array `values` can be directly copied using `std::memcpy`. But the np.array `locations` needs a mapping. For example, consider a locations array of a SparseNDArray of shape (3, 3) which is:\n",
    "\n",
    "$$\n",
    "\\begin{bmatrix}\n",
    "0 & 2 \\\\\n",
    "0 & 0\n",
    "\\end{bmatrix}\n",
    "$$\n",
    "\n",
    "Note that every column of the array corresponds to one entry in the 1D array in underlying memory. Then the corresponding \"flat\" array in memory can be computed using a strides (3, 1), which is:\n",
    "\n",
    "$$\n",
    "\\begin{bmatrix}\n",
    "0 & 6 \\\\\n",
    "\\end{bmatrix}\n",
    "$$\n",
    "\n",
    "Second, the function `to_numpy_value` and `to_numpy_loc` in `sparse_ndarray_backend_cpu.cc` converts a SparseNDArray from 1D arrays in memory to np.ndarrays in COO format. Similarly, in the above example, we can get np.ndarray for `value` using strides (1, ) and get np.ndarray for `locations` using strides (3, 3)."
   ]
  },
  {
   "cell_type": "markdown",
   "id": "527c4277-90c7-40ce-ab2d-668139415eeb",
   "metadata": {},
   "source": [
    "#### (4) The operations SparseNDArray support\n",
    "We define a series of methods for users to conduct operations on SparseNDArray. The implementation of these methods simply calls the C++ functions in `sparse_ndarray_backend_cpu.cc` through the device object. The method we support including:\n"
   ]
  },
  {
   "cell_type": "markdown",
   "id": "6cb9eeb8-927b-4244-a5fa-ec3a2575d9ce",
   "metadata": {},
   "source": [
    "## Part 3: SparseTensor in Python "
   ]
  },
  {
   "cell_type": "code",
   "execution_count": null,
   "id": "209e6bdf-edb2-4761-a7d1-cf084d1eb8f7",
   "metadata": {},
   "outputs": [],
   "source": []
  }
 ],
 "metadata": {
  "kernelspec": {
   "display_name": "Python 3 (ipykernel)",
   "language": "python",
   "name": "python3"
  },
  "language_info": {
   "codemirror_mode": {
    "name": "ipython",
    "version": 3
   },
   "file_extension": ".py",
   "mimetype": "text/x-python",
   "name": "python",
   "nbconvert_exporter": "python",
   "pygments_lexer": "ipython3",
   "version": "3.9.12"
  }
 },
 "nbformat": 4,
 "nbformat_minor": 5
}
